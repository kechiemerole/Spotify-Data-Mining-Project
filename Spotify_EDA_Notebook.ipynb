{
 "cells": [
  {
   "cell_type": "markdown",
   "id": "7fb11553",
   "metadata": {},
   "source": [
    "Import libraries needed"
   ]
  },
  {
   "cell_type": "code",
   "execution_count": 4,
   "id": "b7938402",
   "metadata": {},
   "outputs": [],
   "source": [
    "import json\n",
    "import csv\n",
    "import os\n",
    "import pandas as pd\n"
   ]
  },
  {
   "cell_type": "markdown",
   "id": "df4d7bbb",
   "metadata": {},
   "source": [
    "Load all the JSON files using pandas"
   ]
  },
  {
   "cell_type": "code",
   "execution_count": null,
   "id": "c153dce7",
   "metadata": {},
   "outputs": [
    {
     "name": "stdout",
     "output_type": "stream",
     "text": [
      "               endTime     artistName                       trackName  \\\n",
      "0     2022-07-02 00:28           Coeo                Midnight Visions   \n",
      "1     2022-07-02 00:28  Justin Bieber      Honest (feat. Don Toliver)   \n",
      "2     2022-07-02 03:11        Victony                       All Power   \n",
      "3     2022-07-02 03:12  Justin Bieber      Honest (feat. Don Toliver)   \n",
      "4     2022-07-02 14:57     Young Jonn     Dada (feat. Davido) [Remix]   \n",
      "...                ...            ...                             ...   \n",
      "9995  2022-11-12 22:13     Ayra Starr                            Rush   \n",
      "9996  2022-11-12 22:16      Burna Boy  Toni-Ann Singh (feat. Popcaan)   \n",
      "9997  2022-11-12 22:17       melvitto         Run My Way (feat. WANI)   \n",
      "9998  2022-11-12 22:17          Lojay                         Tonongo   \n",
      "9999  2022-11-12 22:17   Bad Boy Timz                            Move   \n",
      "\n",
      "      msPlayed  \n",
      "0         6590  \n",
      "1        80203  \n",
      "2       192284  \n",
      "3        42903  \n",
      "4       177692  \n",
      "...        ...  \n",
      "9995     14820  \n",
      "9996    175676  \n",
      "9997     53410  \n",
      "9998     20591  \n",
      "9999      1160  \n",
      "\n",
      "[10000 rows x 4 columns]\n",
      "               endTime    artistName       trackName  msPlayed\n",
      "0     2022-11-12 22:17        Wizkid    Money & Love      1890\n",
      "1     2022-11-12 22:20  Bad Boy Timz            Move    150490\n",
      "2     2022-11-12 22:21    Mansa Cole   Summer Baddie     90777\n",
      "3     2022-11-12 22:26        Mavins       Won Da Mo    247680\n",
      "4     2022-11-12 22:29        Timaya         Pull Up    196799\n",
      "...                ...           ...             ...       ...\n",
      "9995  2023-03-07 19:44  Wayne Wonder   No Letting Go    202012\n",
      "9996  2023-03-07 19:48   Ajebutter22  Too Many Women    201599\n",
      "9997  2023-03-07 20:17          RAYE      Confidence     67306\n",
      "9998  2023-03-07 20:17        Br3nya    Double Dutch       682\n",
      "9999  2023-03-07 23:10          RAYE      Confidence    103625\n",
      "\n",
      "[10000 rows x 4 columns]\n",
      "               endTime    artistName     trackName  msPlayed\n",
      "0     2023-03-07 23:13        Br3nya  Double Dutch    170466\n",
      "1     2023-03-07 23:16     Kida Kudz         Again    212011\n",
      "2     2023-03-07 23:19  Aya Nakamura        Djadja    171133\n",
      "3     2023-03-07 23:23         Mabel     Fine Line    211466\n",
      "4     2023-03-08 00:14  Maleek Berry        Own It     44664\n",
      "...                ...           ...           ...       ...\n",
      "8990  2023-07-02 15:22      Omah Lay   come closer    155788\n",
      "8991  2023-07-02 15:24      Omah Lay        reason    147362\n",
      "8992  2023-07-02 15:28         Asake      Sunshine    185738\n",
      "8993  2023-07-02 15:30         Asake      Basquiat    134482\n",
      "8994  2023-07-02 15:33  Byron Messia      Talibans    188736\n",
      "\n",
      "[8995 rows x 4 columns]\n",
      "               endTime     artistName                    trackName  msPlayed\n",
      "0     2022-07-02 00:28           Coeo             Midnight Visions      6590\n",
      "1     2022-07-02 00:28  Justin Bieber   Honest (feat. Don Toliver)     80203\n",
      "2     2022-07-02 03:11        Victony                    All Power    192284\n",
      "3     2022-07-02 03:12  Justin Bieber   Honest (feat. Don Toliver)     42903\n",
      "4     2022-07-02 14:57     Young Jonn  Dada (feat. Davido) [Remix]    177692\n",
      "...                ...            ...                          ...       ...\n",
      "8990  2023-07-02 15:22       Omah Lay                  come closer    155788\n",
      "8991  2023-07-02 15:24       Omah Lay                       reason    147362\n",
      "8992  2023-07-02 15:28          Asake                     Sunshine    185738\n",
      "8993  2023-07-02 15:30          Asake                     Basquiat    134482\n",
      "8994  2023-07-02 15:33   Byron Messia                     Talibans    188736\n",
      "\n",
      "[28995 rows x 4 columns]\n"
     ]
    }
   ],
   "source": [
    "df0 = pd.read_json('MyData/StreamingHistory0.json')\n",
    "\n",
    "# view data\n",
    "print(df0)\n",
    "\n",
    "# load second json file using pandas\n",
    "df1 = pd.read_json('MyData/StreamingHistory1.json')\n",
    "\n",
    "# view data\n",
    "print(df1)\n",
    "\n",
    "# load third json file using pandas\n",
    "df2 = pd.read_json('MyData/StreamingHistory2.json')\n",
    "\n",
    "# view data\n",
    "print(df2)\n",
    "\n",
    "# use pandas.concat method to combine all the json files in one\n",
    "df = pd.concat([df0, df1,df2])\n",
    "\n",
    "# view the concatenated dataframe\n",
    "df.head(df)\n",
    " \n"
   ]
  },
  {
   "cell_type": "markdown",
   "id": "fbb00de4",
   "metadata": {},
   "source": [
    "convert dataframe to csv file\n"
   ]
  },
  {
   "cell_type": "code",
   "execution_count": 6,
   "id": "9382ead7",
   "metadata": {},
   "outputs": [],
   "source": [
    "df.to_csv(\"myDataCombined.csv\",index=False)\n",
    "\n",
    "# load the resultant csv file\n",
    "result = pd.read_csv(\"myDataCombined.csv\")"
   ]
  },
  {
   "cell_type": "markdown",
   "id": "a8f325f2",
   "metadata": {},
   "source": [
    "Print and View the Data"
   ]
  },
  {
   "cell_type": "code",
   "execution_count": 7,
   "id": "64cd0904",
   "metadata": {},
   "outputs": [
    {
     "name": "stdout",
     "output_type": "stream",
     "text": [
      "                endTime     artistName                    trackName  msPlayed\n",
      "0      2022-07-02 00:28           Coeo             Midnight Visions      6590\n",
      "1      2022-07-02 00:28  Justin Bieber   Honest (feat. Don Toliver)     80203\n",
      "2      2022-07-02 03:11        Victony                    All Power    192284\n",
      "3      2022-07-02 03:12  Justin Bieber   Honest (feat. Don Toliver)     42903\n",
      "4      2022-07-02 14:57     Young Jonn  Dada (feat. Davido) [Remix]    177692\n",
      "...                 ...            ...                          ...       ...\n",
      "28990  2023-07-02 15:22       Omah Lay                  come closer    155788\n",
      "28991  2023-07-02 15:24       Omah Lay                       reason    147362\n",
      "28992  2023-07-02 15:28          Asake                     Sunshine    185738\n",
      "28993  2023-07-02 15:30          Asake                     Basquiat    134482\n",
      "28994  2023-07-02 15:33   Byron Messia                     Talibans    188736\n",
      "\n",
      "[28995 rows x 4 columns]\n"
     ]
    }
   ],
   "source": [
    "print(result)\n"
   ]
  }
 ],
 "metadata": {
  "kernelspec": {
   "display_name": "Python 3 (ipykernel)",
   "language": "python",
   "name": "python3"
  },
  "language_info": {
   "codemirror_mode": {
    "name": "ipython",
    "version": 3
   },
   "file_extension": ".py",
   "mimetype": "text/x-python",
   "name": "python",
   "nbconvert_exporter": "python",
   "pygments_lexer": "ipython3",
   "version": "3.10.9"
  }
 },
 "nbformat": 4,
 "nbformat_minor": 5
}
