{
 "cells": [
  {
   "cell_type": "markdown",
   "id": "7fb11553",
   "metadata": {},
   "source": [
    "Import libraries needed"
   ]
  },
  {
   "cell_type": "code",
   "execution_count": 2,
   "id": "b7938402",
   "metadata": {},
   "outputs": [],
   "source": [
    "import json\n",
    "import csv\n",
    "import os\n",
    "import pandas as pd\n"
   ]
  },
  {
   "cell_type": "markdown",
   "id": "df4d7bbb",
   "metadata": {},
   "source": [
    "Load all the JSON files using pandas"
   ]
  },
  {
   "cell_type": "code",
   "execution_count": 8,
   "id": "c153dce7",
   "metadata": {},
   "outputs": [
    {
     "name": "stdout",
     "output_type": "stream",
     "text": [
      "            endTime     artistName                    trackName  msPlayed\n",
      "0  2022-07-02 00:28           Coeo             Midnight Visions      6590\n",
      "1  2022-07-02 00:28  Justin Bieber   Honest (feat. Don Toliver)     80203\n",
      "2  2022-07-02 03:11        Victony                    All Power    192284\n",
      "3  2022-07-02 03:12  Justin Bieber   Honest (feat. Don Toliver)     42903\n",
      "4  2022-07-02 14:57     Young Jonn  Dada (feat. Davido) [Remix]    177692\n"
     ]
    }
   ],
   "source": [
    "df0 = pd.read_json('MyData/StreamingHistory0.json')\n",
    "\n",
    "# view data\n",
    "# print(df0)\n",
    "\n",
    "# load second json file using pandas\n",
    "df1 = pd.read_json('MyData/StreamingHistory1.json')\n",
    "\n",
    "# view data\n",
    "# print(df1)\n",
    "\n",
    "# load third json file using pandas\n",
    "df2 = pd.read_json('MyData/StreamingHistory2.json')\n",
    "\n",
    "# view data\n",
    "# print(df2)\n",
    "\n",
    "# use pandas.concat method to combine all the json files in one\n",
    "df = pd.concat([df0, df1,df2])\n",
    "\n",
    "# view the concatenated dataframe\n",
    "print(df.head())\n",
    " \n"
   ]
  },
  {
   "cell_type": "markdown",
   "id": "fbb00de4",
   "metadata": {},
   "source": [
    "convert dataframe to csv file\n"
   ]
  },
  {
   "cell_type": "code",
   "execution_count": 6,
   "id": "9382ead7",
   "metadata": {},
   "outputs": [],
   "source": [
    "df.to_csv(\"myDataCombined.csv\",index=False)\n",
    "\n",
    "# load the resultant csv file\n",
    "result = pd.read_csv(\"myDataCombined.csv\")"
   ]
  },
  {
   "cell_type": "markdown",
   "id": "a8f325f2",
   "metadata": {},
   "source": [
    "Print and View the Data"
   ]
  },
  {
   "cell_type": "code",
   "execution_count": 7,
   "id": "64cd0904",
   "metadata": {},
   "outputs": [
    {
     "name": "stdout",
     "output_type": "stream",
     "text": [
      "            endTime     artistName                    trackName  msPlayed\n",
      "0  2022-07-02 00:28           Coeo             Midnight Visions      6590\n",
      "1  2022-07-02 00:28  Justin Bieber   Honest (feat. Don Toliver)     80203\n",
      "2  2022-07-02 03:11        Victony                    All Power    192284\n",
      "3  2022-07-02 03:12  Justin Bieber   Honest (feat. Don Toliver)     42903\n",
      "4  2022-07-02 14:57     Young Jonn  Dada (feat. Davido) [Remix]    177692\n"
     ]
    }
   ],
   "source": [
    "print(result.head())\n"
   ]
  }
 ],
 "metadata": {
  "kernelspec": {
   "display_name": "Python 3 (ipykernel)",
   "language": "python",
   "name": "python3"
  },
  "language_info": {
   "codemirror_mode": {
    "name": "ipython",
    "version": 3
   },
   "file_extension": ".py",
   "mimetype": "text/x-python",
   "name": "python",
   "nbconvert_exporter": "python",
   "pygments_lexer": "ipython3",
   "version": "3.10.9"
  }
 },
 "nbformat": 4,
 "nbformat_minor": 5
}
